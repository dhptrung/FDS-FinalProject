{
 "cells": [
  {
   "cell_type": "markdown",
   "metadata": {},
   "source": [
    "# ĐỒ ÁN CUỐI KỲ - NHẬP MÔN KHOA HỌC DỮ LIỆU\n",
    "STT nhóm: 17\n",
    "\n",
    "Thành viên:\n",
    "- 18120066 - Bùi Đoàn Hữu Nhân\n",
    "- 18120097 - Đinh Hữu Phúc Trung\n",
    "\n",
    "##  Đề tài: Dự đoán giá xe ô tô"
   ]
  },
  {
   "cell_type": "markdown",
   "metadata": {},
   "source": [
    "---"
   ]
  },
  {
   "cell_type": "markdown",
   "metadata": {},
   "source": [
    "# I - Thu thập dữ liệu\n",
    "&#9889; **Lưu ý:**\n",
    "\n",
    "Để có thể chạy file notebook này ta cần phải:\n",
    "- Install thư viện Selenium.\n",
    "- Tải file thực thi thích hợp cho từng máy va từng phiên bản của trình duyệt mà ta sử dụng. \n",
    "    - Nếu máy dùng trình duyệt Google Chrome: bạn cần download driver [tại đây](https://chromedriver.chromium.org/downloads)\n",
    "    - Nếu máy dùng trình duyệt Microsoft Edge (Chromium): bạn cần download driver [tại đây](https://developer.microsoft.com/en-us/microsoft-edge/tools/webdriver/)\n",
    "    \n",
    "Trong đồ án, chúng em sử dụng trình duyệt Microsoft Edge (Chromium) nên đã tải sẵn file thực thi và lưu vào chung thư mục với file notebook này.\n",
    "\n",
    "Dưới đây là code thu thập dữ liệu với số lượng ít (dùng để kiểm tra và chạy thử), còn việc thu thập dữ liệu để sử dụng cho bài làm có số lượng lớn hơn rất nhiều đã được thực hiện trước vì việc thu thập tốn khá nhiều thời gian (run time lớn)."
   ]
  },
  {
   "cell_type": "markdown",
   "metadata": {},
   "source": [
    "---"
   ]
  },
  {
   "cell_type": "markdown",
   "metadata": {},
   "source": [
    "## Import"
   ]
  },
  {
   "cell_type": "code",
   "execution_count": 1,
   "metadata": {},
   "outputs": [],
   "source": [
    "import requests\n",
    "import urllib.robotparser\n",
    "import numpy as np\n",
    "import pandas as pd\n",
    "import re\n",
    "import time\n",
    "import datetime\n",
    "\n",
    "from bs4 import BeautifulSoup,SoupStrainer\n",
    "from selenium import webdriver"
   ]
  },
  {
   "cell_type": "markdown",
   "metadata": {},
   "source": [
    "---"
   ]
  },
  {
   "cell_type": "markdown",
   "metadata": {},
   "source": [
    "## Kiểm tra trước khi crawl dữ liệu"
   ]
  },
  {
   "cell_type": "code",
   "execution_count": 2,
   "metadata": {},
   "outputs": [
    {
     "data": {
      "text/plain": [
       "True"
      ]
     },
     "execution_count": 2,
     "metadata": {},
     "output_type": "execute_result"
    }
   ],
   "source": [
    "rp = urllib.robotparser.RobotFileParser()\n",
    "rp.set_url('https://www.cars-data.com/robots.txt')\n",
    "rp.read()\n",
    "rp.can_fetch('*', 'https://www.cars-data.com/en/all-cars/page1.html')"
   ]
  },
  {
   "cell_type": "code",
   "execution_count": 3,
   "metadata": {},
   "outputs": [
    {
     "data": {
      "text/plain": [
       "True"
      ]
     },
     "execution_count": 3,
     "metadata": {},
     "output_type": "execute_result"
    }
   ],
   "source": [
    "rp.can_fetch('*', 'https://www.cars-data.com/en/abarth-500-1-4-16v-t-jet-specs/1/tech')"
   ]
  },
  {
   "cell_type": "markdown",
   "metadata": {},
   "source": [
    "---"
   ]
  },
  {
   "cell_type": "markdown",
   "metadata": {},
   "source": [
    "## Bắt đầu crawl dữ liệu\n",
    "\n",
    "Đây là trang web sử dụng javascript, nên ta không thể dùng phương pháp parser của request được. Ta cần sử dụng một thư viện khác để có thể thu thập dữ liệu của trang web là Selenium."
   ]
  },
  {
   "cell_type": "markdown",
   "metadata": {},
   "source": [
    "### Mở trình duyệt mà ta cần để lấy dữ liệu trang web\n",
    "\n",
    "Với mỗi trình duyệt khác nhau thì câu lệnh cũng khác nhau. Ở đây, ta đang sử dụng trình duyệt Edge nên câu lệnh được thực hiện như sau.\n",
    "\n",
    "(`executable_path` là đường dẫn đến file thực thi)"
   ]
  },
  {
   "cell_type": "code",
   "execution_count": 4,
   "metadata": {},
   "outputs": [],
   "source": [
    "browser = webdriver.Edge(executable_path='msedgedriver.exe')"
   ]
  },
  {
   "cell_type": "markdown",
   "metadata": {},
   "source": [
    "### Thu thập link chứa thông tin của mỗi xe\n",
    "\n",
    "- Nếu link nhận được là link của một chiếc xe cụ thể (không có option) thì được thêm trực tiếp vào danh sách info_cars (ta có thể nhận thấy, thông tin chi tiết của xe sẽ là đường dẫn của xe có đi đến \"/tech\")\n",
    "- Nếu link nhận được là link của một chiếc xe có các option khác, thì link này sẽ được gán vào danh sách links để bước sau ta sẽ xử lí trường hợp này.\n",
    "\n",
    "*Thay đổi `num_pages` để thay đổi số lượng trang mà ta cần thu thập, và các page được lấy theo thứ tự giảm dần nhằm mục đích lấy được nhiều xe có năm ra mắt là mới nhất.*"
   ]
  },
  {
   "cell_type": "code",
   "execution_count": 5,
   "metadata": {},
   "outputs": [],
   "source": [
    "page = 97   # 97 là số trang tối đa\n",
    "numPage = 1   # numPage là số lượng trang ta muốn lấy dữ liệu\n",
    "links = list()\n",
    "info_cars = list()\n",
    "while (page - (97 - numPage) > 0):\n",
    "    browser.get(f'https://www.cars-data.com/en/all-cars/page{page}.html')\n",
    "    html_text = browser.page_source\n",
    "\n",
    "    tree = BeautifulSoup(html_text, 'lxml')\n",
    "    cars_box = tree.find_all('div',{'class':'col-4'})\n",
    "    for car in cars_box[0:-3]:\n",
    "        link = car.find('a')['href']\n",
    "        if (link.find('specs') == -1):\n",
    "            links.append(link)\n",
    "        else:\n",
    "            info_cars.append(link + '/tech')\n",
    "    page-=1"
   ]
  },
  {
   "cell_type": "markdown",
   "metadata": {},
   "source": [
    "Tiếp theo ta sẽ lấy luôn các option của từng xe mà có trong danh sách  `links ` (thông tin chi tiết của xe sẽ là đường dẫn của xe có đi đến \"/tech\")."
   ]
  },
  {
   "cell_type": "code",
   "execution_count": 6,
   "metadata": {},
   "outputs": [],
   "source": [
    "for link in links:\n",
    "    browser.get(link)\n",
    "    html_text = browser.page_source\n",
    "\n",
    "    tree = BeautifulSoup(html_text, 'lxml')\n",
    "    options = tree.find_all('div',{'class':'col-6'})\n",
    "    for option in options:\n",
    "        info = option.find('a')['href'] + '/tech'\n",
    "        info_cars.append(info)"
   ]
  },
  {
   "cell_type": "markdown",
   "metadata": {},
   "source": [
    "Như vậy ta đã thu thập đủ link chứa thông tin của các xe."
   ]
  },
  {
   "cell_type": "code",
   "execution_count": 7,
   "metadata": {},
   "outputs": [
    {
     "data": {
      "text/plain": [
       "29"
      ]
     },
     "execution_count": 7,
     "metadata": {},
     "output_type": "execute_result"
    }
   ],
   "source": [
    "len(info_cars)"
   ]
  },
  {
   "cell_type": "markdown",
   "metadata": {},
   "source": [
    "### Xử lý và lấy thông tin chi tiết của mỗi xe\n",
    "- Do thông tin của xe (không lấy xe điện) nằm trong một bảng cố định. Ở bước sau, khi ta thấy thông tin đó thì trong danh sách nhận được, các dòng chẵn sẽ là các đề mục, và dòng lẻ (+1) sẽ là các giá trị của đề mục đó. Do không phải ta sẽ lấy hết tất cả các thông số của xe mà ta chỉ lấy những thông tin có thể cần thiết cho việc huấn luyện sau này, nên ta cần phải biết được những vị trí cần lấy trong danh sách thông tin đó. Từ đó là sẽ có được các index cho dictionary  `label `. Các giá trị của index chính là các tên cột của dataframe sau này.\n",
    "- Vì vậy ta sẽ dùng dictionary để có thể tận dụng được index cho việc lấy thông tin và giá trị cho việc tạo tên cột dataframe.\n",
    "- Tạo dataframe, ta sẽ thêm hai cột đó là Name (tên xe. VD: Toyota Camry,...), là Brand (thương hiệu xe. VD: Toyota,...)"
   ]
  },
  {
   "cell_type": "code",
   "execution_count": 8,
   "metadata": {},
   "outputs": [],
   "source": [
    "label = {0:'Price',6:'Body',8:'Transmission',10:'Number Of Seats',12:'Segment',14:'Introduction',18:'Drive',20:'Drive System',22:'Fuel',34:'Valves Per Cylinder',34:'Cylinder Capacity',46:'Max Power Hp',50:'Max Torque',54:'Fuel System',56:'Valve Actuation',58:'Turbo',62:'Fuel Tank',64:'Top Speed',78:'Energy Label',108:'Front Stabilizer',110:'Rear Stabilizer'}"
   ]
  },
  {
   "cell_type": "code",
   "execution_count": 9,
   "metadata": {},
   "outputs": [],
   "source": [
    "df = pd.DataFrame(columns=['Name','Brand']+list(label.values()))"
   ]
  },
  {
   "cell_type": "markdown",
   "metadata": {},
   "source": [
    "- Ở bước này, ta cần tách Brand và Name từ đường link của xe, đồng thời sẽ lấy thông tin chi tiết của mỗi xe theo cách đã trình bày ở trên.\n",
    "- Ta dùng Try Except ở bước này nhằm bắt được các lỗi sai trong quá trình lấy thông tin của xe (thông tin của xe điện ít hơn xe khác,...)\n",
    "\n",
    "*Sau khi thực hiện xong bước này, ta đã có được dataframe dùng để huấn luyện*"
   ]
  },
  {
   "cell_type": "code",
   "execution_count": 10,
   "metadata": {},
   "outputs": [],
   "source": [
    "i=0\n",
    "for info in info_cars:\n",
    "    browser.get(info)\n",
    "    html_text = browser.page_source\n",
    "    tree = BeautifulSoup(html_text,'lxml',parse_only=SoupStrainer('td'))\n",
    "    info_detail = tree.find_all('td',attrs={'class': re.compile(r\"^col-6$\")})\n",
    "    if (len(info_detail) == 146):\n",
    "        list_tmp = list()\n",
    "        i+=1\n",
    "        try:\n",
    "            name_car = info[29:]\n",
    "            name_car = name_car[:name_car.find('-specs')].replace('-',' ').upper()\n",
    "            brand = name_car[:name_car.find(' ')]\n",
    "            list_tmp.append(name_car)\n",
    "            list_tmp.append(brand)\n",
    "            for j in label:\n",
    "                list_tmp.append(info_detail[j+1].text)\n",
    "            df.loc[i] = list_tmp\n",
    "        except:\n",
    "            i-=1"
   ]
  },
  {
   "cell_type": "markdown",
   "metadata": {},
   "source": [
    "Hoàn thành việc thu thập dữ liệu."
   ]
  },
  {
   "cell_type": "code",
   "execution_count": 11,
   "metadata": {},
   "outputs": [
    {
     "data": {
      "text/html": [
       "<div>\n",
       "<style scoped>\n",
       "    .dataframe tbody tr th:only-of-type {\n",
       "        vertical-align: middle;\n",
       "    }\n",
       "\n",
       "    .dataframe tbody tr th {\n",
       "        vertical-align: top;\n",
       "    }\n",
       "\n",
       "    .dataframe thead th {\n",
       "        text-align: right;\n",
       "    }\n",
       "</style>\n",
       "<table border=\"1\" class=\"dataframe\">\n",
       "  <thead>\n",
       "    <tr style=\"text-align: right;\">\n",
       "      <th></th>\n",
       "      <th>Name</th>\n",
       "      <th>Brand</th>\n",
       "      <th>Price</th>\n",
       "      <th>Body</th>\n",
       "      <th>Transmission</th>\n",
       "      <th>Number Of Seats</th>\n",
       "      <th>Segment</th>\n",
       "      <th>Introduction</th>\n",
       "      <th>Drive</th>\n",
       "      <th>Drive System</th>\n",
       "      <th>...</th>\n",
       "      <th>Max Power Hp</th>\n",
       "      <th>Max Torque</th>\n",
       "      <th>Fuel System</th>\n",
       "      <th>Valve Actuation</th>\n",
       "      <th>Turbo</th>\n",
       "      <th>Fuel Tank</th>\n",
       "      <th>Top Speed</th>\n",
       "      <th>Energy Label</th>\n",
       "      <th>Front Stabilizer</th>\n",
       "      <th>Rear Stabilizer</th>\n",
       "    </tr>\n",
       "  </thead>\n",
       "  <tbody>\n",
       "    <tr>\n",
       "      <th>1</th>\n",
       "      <td>HYUNDAI I20 1 2 MPI I MOTION</td>\n",
       "      <td>HYUNDAI</td>\n",
       "      <td>€ 17.147</td>\n",
       "      <td>5-doors, hatchback</td>\n",
       "      <td>5 speed manual transmission</td>\n",
       "      <td>5</td>\n",
       "      <td>b (small)</td>\n",
       "      <td>september 2020</td>\n",
       "      <td>front</td>\n",
       "      <td>fuel engine</td>\n",
       "      <td>...</td>\n",
       "      <td>84</td>\n",
       "      <td>118 nm</td>\n",
       "      <td>direct injection</td>\n",
       "      <td>dohc</td>\n",
       "      <td>no</td>\n",
       "      <td>40 l</td>\n",
       "      <td>173 km/h</td>\n",
       "      <td>b</td>\n",
       "      <td>yes</td>\n",
       "      <td>no</td>\n",
       "    </tr>\n",
       "    <tr>\n",
       "      <th>2</th>\n",
       "      <td>MERCEDES BENZ S 450 4MATIC</td>\n",
       "      <td>MERCEDES</td>\n",
       "      <td>€ 134.188</td>\n",
       "      <td>4-doors, sedan</td>\n",
       "      <td>9 speed automatic</td>\n",
       "      <td>5</td>\n",
       "      <td>f (large)</td>\n",
       "      <td>november 2020</td>\n",
       "      <td>front+rear</td>\n",
       "      <td>fuel engine</td>\n",
       "      <td>...</td>\n",
       "      <td>367</td>\n",
       "      <td>500 nm</td>\n",
       "      <td>direct injection</td>\n",
       "      <td>dohc</td>\n",
       "      <td>yes, with intercooler</td>\n",
       "      <td>76 l</td>\n",
       "      <td>250 km/h</td>\n",
       "      <td>b</td>\n",
       "      <td>yes</td>\n",
       "      <td>yes</td>\n",
       "    </tr>\n",
       "    <tr>\n",
       "      <th>3</th>\n",
       "      <td>OPEL MOKKA 1 2 TURBO 100HP EDITION</td>\n",
       "      <td>OPEL</td>\n",
       "      <td>€ 25.400</td>\n",
       "      <td>5-doors, suv/crossover</td>\n",
       "      <td>6 speed manual transmission</td>\n",
       "      <td>5</td>\n",
       "      <td>l (small suv)</td>\n",
       "      <td>october 2020</td>\n",
       "      <td>front</td>\n",
       "      <td>fuel engine</td>\n",
       "      <td>...</td>\n",
       "      <td>100</td>\n",
       "      <td>205 nm</td>\n",
       "      <td>direct injection</td>\n",
       "      <td>dohc</td>\n",
       "      <td>yes, with intercooler</td>\n",
       "      <td>44 l</td>\n",
       "      <td>188 km/h</td>\n",
       "      <td>b</td>\n",
       "      <td>yes</td>\n",
       "      <td>no</td>\n",
       "    </tr>\n",
       "    <tr>\n",
       "      <th>4</th>\n",
       "      <td>JAGUAR XF P250 S</td>\n",
       "      <td>JAGUAR</td>\n",
       "      <td>€ 67.805</td>\n",
       "      <td>4-doors, sedan</td>\n",
       "      <td>8 speed automatic</td>\n",
       "      <td>5</td>\n",
       "      <td>e (large mid-size)</td>\n",
       "      <td>october 2020</td>\n",
       "      <td>rear</td>\n",
       "      <td>fuel engine</td>\n",
       "      <td>...</td>\n",
       "      <td>250</td>\n",
       "      <td>365 nm</td>\n",
       "      <td>direct injection</td>\n",
       "      <td>dohc</td>\n",
       "      <td>yes, with intercooler</td>\n",
       "      <td>74 l</td>\n",
       "      <td>250 km/h</td>\n",
       "      <td>c</td>\n",
       "      <td>yes</td>\n",
       "      <td>yes</td>\n",
       "    </tr>\n",
       "    <tr>\n",
       "      <th>5</th>\n",
       "      <td>JAGUAR XF SPORTBRAKE P250 S</td>\n",
       "      <td>JAGUAR</td>\n",
       "      <td>€ 73.805</td>\n",
       "      <td>5-doors, station wagon</td>\n",
       "      <td>8 speed automatic</td>\n",
       "      <td>5</td>\n",
       "      <td>e (large mid-size)</td>\n",
       "      <td>october 2020</td>\n",
       "      <td>rear</td>\n",
       "      <td>fuel engine</td>\n",
       "      <td>...</td>\n",
       "      <td>250</td>\n",
       "      <td>365 nm</td>\n",
       "      <td>direct injection</td>\n",
       "      <td>dohc</td>\n",
       "      <td>yes, with intercooler</td>\n",
       "      <td>74 l</td>\n",
       "      <td>241 km/h</td>\n",
       "      <td>d</td>\n",
       "      <td>yes</td>\n",
       "      <td>yes</td>\n",
       "    </tr>\n",
       "  </tbody>\n",
       "</table>\n",
       "<p>5 rows × 22 columns</p>\n",
       "</div>"
      ],
      "text/plain": [
       "                                 Name     Brand      Price  \\\n",
       "1        HYUNDAI I20 1 2 MPI I MOTION   HYUNDAI   € 17.147   \n",
       "2          MERCEDES BENZ S 450 4MATIC  MERCEDES  € 134.188   \n",
       "3  OPEL MOKKA 1 2 TURBO 100HP EDITION      OPEL   € 25.400   \n",
       "4                    JAGUAR XF P250 S    JAGUAR   € 67.805   \n",
       "5         JAGUAR XF SPORTBRAKE P250 S    JAGUAR   € 73.805   \n",
       "\n",
       "                     Body                 Transmission Number Of Seats  \\\n",
       "1      5-doors, hatchback  5 speed manual transmission               5   \n",
       "2          4-doors, sedan            9 speed automatic               5   \n",
       "3  5-doors, suv/crossover  6 speed manual transmission               5   \n",
       "4          4-doors, sedan            8 speed automatic               5   \n",
       "5  5-doors, station wagon            8 speed automatic               5   \n",
       "\n",
       "              Segment    Introduction       Drive Drive System  ...  \\\n",
       "1           b (small)  september 2020       front  fuel engine  ...   \n",
       "2           f (large)   november 2020  front+rear  fuel engine  ...   \n",
       "3       l (small suv)    october 2020       front  fuel engine  ...   \n",
       "4  e (large mid-size)    october 2020        rear  fuel engine  ...   \n",
       "5  e (large mid-size)    october 2020        rear  fuel engine  ...   \n",
       "\n",
       "  Max Power Hp Max Torque       Fuel System Valve Actuation  \\\n",
       "1           84     118 nm  direct injection            dohc   \n",
       "2          367     500 nm  direct injection            dohc   \n",
       "3          100     205 nm  direct injection            dohc   \n",
       "4          250     365 nm  direct injection            dohc   \n",
       "5          250     365 nm  direct injection            dohc   \n",
       "\n",
       "                   Turbo Fuel Tank Top Speed Energy Label Front Stabilizer  \\\n",
       "1                     no      40 l  173 km/h            b              yes   \n",
       "2  yes, with intercooler      76 l  250 km/h            b              yes   \n",
       "3  yes, with intercooler      44 l  188 km/h            b              yes   \n",
       "4  yes, with intercooler      74 l  250 km/h            c              yes   \n",
       "5  yes, with intercooler      74 l  241 km/h            d              yes   \n",
       "\n",
       "  Rear Stabilizer  \n",
       "1              no  \n",
       "2             yes  \n",
       "3              no  \n",
       "4             yes  \n",
       "5             yes  \n",
       "\n",
       "[5 rows x 22 columns]"
      ]
     },
     "execution_count": 11,
     "metadata": {},
     "output_type": "execute_result"
    }
   ],
   "source": [
    "df.head()"
   ]
  },
  {
   "cell_type": "markdown",
   "metadata": {},
   "source": [
    "Số dòng dữ liệu ở đây ít hơn số link thu thập được do có một số xe ôtô chạy bằng điện và ta bỏ qua loại xe này vì cấu tạo của nó khác so với những xe khác."
   ]
  },
  {
   "cell_type": "markdown",
   "metadata": {},
   "source": [
    "---"
   ]
  },
  {
   "cell_type": "markdown",
   "metadata": {},
   "source": [
    "## Xử lý dữ liệu thô\n",
    "Dữ liệu thu thập về đang còn ở mức rất thô, ta sẽ tiến hành xử lý từng cột để định dạng lại dữ liệu này trước khi thực hiện Tiền xử lý và Mô hình hóa dữ liệu."
   ]
  },
  {
   "cell_type": "code",
   "execution_count": 12,
   "metadata": {},
   "outputs": [],
   "source": [
    "# Xử lí cột \"Price\" - thực hiện tách đơn vị và chuyển kiểu dữ liệu thành dạng số\n",
    "df['Price'] = pd.to_numeric(df['Price'].str.extract(r'([\\d.]+)', expand = False), errors='coerce')*1000"
   ]
  },
  {
   "cell_type": "code",
   "execution_count": 13,
   "metadata": {},
   "outputs": [],
   "source": [
    "# Xử lí cột \"Body\" - cột này chứa 2 thông tin là số cửa và loại body\n",
    "# Ta thực hiện tách ra thành hai cột: Num_door và Body\n",
    "Num_doors = list()\n",
    "Body = list()\n",
    "for i in df['Body']:\n",
    "    lc = i.find(',')\n",
    "    Num_doors.append(i[:lc-6])\n",
    "    Body.append(i[lc+1:])\n",
    "df['Body'] = Body\n",
    "df['Num_doors'] = pd.to_numeric(pd.Series(Num_doors), errors='coerce')"
   ]
  },
  {
   "cell_type": "code",
   "execution_count": 14,
   "metadata": {},
   "outputs": [],
   "source": [
    "# Xử lí cột \"Transmission\" - chứa số cấp bậc của hộp số và loại hộp số\n",
    "# Tách ra làm 2 cột là Transmission và Dt_Transmission\n",
    "Transmission = list()\n",
    "Dt_Transmission = list()\n",
    "for i in df['Transmission']:\n",
    "    lc = i.find('speed')\n",
    "    Transmission.append(i[:lc-1])\n",
    "    Dt_Transmission.append(i[lc+6:])\n",
    "df['Dt_Transmission'] = Dt_Transmission\n",
    "df['Transmission'] = pd.to_numeric(pd.Series(Transmission), errors='coerce')"
   ]
  },
  {
   "cell_type": "code",
   "execution_count": 15,
   "metadata": {},
   "outputs": [],
   "source": [
    "# Chuyển dữ liệu \"Number Of Seats\" về dạng số nếu có dạng a-b thì lấy b\n",
    "df['Number Of Seats'] = pd.to_numeric([x if x.find('-')==-1 else x[x.find('-')+1:] for x in df['Number Of Seats']],\n",
    "                                      errors='coerce')"
   ]
  },
  {
   "cell_type": "code",
   "execution_count": 16,
   "metadata": {},
   "outputs": [],
   "source": [
    "# Ở cột \"Segment\" tách lấy ký tự ký hiệu cho loại kích cỡ xe\n",
    "df['Segment'] = df['Segment'].str.extract(r'(\\w)', expand = False)"
   ]
  },
  {
   "cell_type": "code",
   "execution_count": 17,
   "metadata": {},
   "outputs": [],
   "source": [
    "# Tách lấy năm trong \"Introduction\"\n",
    "df['Introduction'] = pd.to_numeric(df['Introduction'].str.extract(r'(\\d+)', expand = False), errors='coerce')"
   ]
  },
  {
   "cell_type": "code",
   "execution_count": 18,
   "metadata": {},
   "outputs": [],
   "source": [
    "# Chuyển cột \"Cylinder Capacity\" về kiểu dữ liệu số \n",
    "df['Cylinder Capacity'] = pd.to_numeric(df['Cylinder Capacity'], errors='coerce')"
   ]
  },
  {
   "cell_type": "code",
   "execution_count": 19,
   "metadata": {},
   "outputs": [],
   "source": [
    "# Chuyển cột \"Max Power Hp\" về kiểu dữ liệu số \n",
    "df['Max Power Hp'] = pd.to_numeric(df['Max Power Hp'], errors='coerce')"
   ]
  },
  {
   "cell_type": "code",
   "execution_count": 20,
   "metadata": {},
   "outputs": [],
   "source": [
    "# Tách \"Max Torque\" ra khỏi đơn vị và chuyền về dạng số \n",
    "df['Max Torque'] = pd.to_numeric(df['Max Torque'].str.extract(r'(\\d+)', expand = False), errors='coerce')"
   ]
  },
  {
   "cell_type": "code",
   "execution_count": 21,
   "metadata": {},
   "outputs": [],
   "source": [
    "# Xử lí cột \"Valve Actuation\"\n",
    "df['Valve Actuation'] = [np.nan if x == 'n.b.' else x for x in df['Valve Actuation']]"
   ]
  },
  {
   "cell_type": "code",
   "execution_count": 22,
   "metadata": {},
   "outputs": [],
   "source": [
    "# Xử lí cột \"Turbo\" về dịnh dạng Yes/No\n",
    "df['Turbo'] = df['Turbo'].str.extract(r'(\\w+)', expand = False)"
   ]
  },
  {
   "cell_type": "code",
   "execution_count": 23,
   "metadata": {},
   "outputs": [],
   "source": [
    "# Tách \"Fuel Tanke\" ra khỏi đơn vị \n",
    "df['Fuel Tank'] = df['Fuel Tank'].str.extract(r'(\\d+)', expand = False)"
   ]
  },
  {
   "cell_type": "code",
   "execution_count": 24,
   "metadata": {},
   "outputs": [],
   "source": [
    "# Tách \"Top Speed\" ra khỏi đơn vị và chuyển về dạng số\n",
    "df['Top Speed'] = pd.to_numeric(df['Top Speed'].str.extract(r'(\\d+)', expand = False), errors='coerce')"
   ]
  },
  {
   "cell_type": "code",
   "execution_count": 25,
   "metadata": {},
   "outputs": [
    {
     "data": {
      "text/html": [
       "<div>\n",
       "<style scoped>\n",
       "    .dataframe tbody tr th:only-of-type {\n",
       "        vertical-align: middle;\n",
       "    }\n",
       "\n",
       "    .dataframe tbody tr th {\n",
       "        vertical-align: top;\n",
       "    }\n",
       "\n",
       "    .dataframe thead th {\n",
       "        text-align: right;\n",
       "    }\n",
       "</style>\n",
       "<table border=\"1\" class=\"dataframe\">\n",
       "  <thead>\n",
       "    <tr style=\"text-align: right;\">\n",
       "      <th></th>\n",
       "      <th>Name</th>\n",
       "      <th>Brand</th>\n",
       "      <th>Price</th>\n",
       "      <th>Body</th>\n",
       "      <th>Transmission</th>\n",
       "      <th>Number Of Seats</th>\n",
       "      <th>Segment</th>\n",
       "      <th>Introduction</th>\n",
       "      <th>Drive</th>\n",
       "      <th>Drive System</th>\n",
       "      <th>...</th>\n",
       "      <th>Fuel System</th>\n",
       "      <th>Valve Actuation</th>\n",
       "      <th>Turbo</th>\n",
       "      <th>Fuel Tank</th>\n",
       "      <th>Top Speed</th>\n",
       "      <th>Energy Label</th>\n",
       "      <th>Front Stabilizer</th>\n",
       "      <th>Rear Stabilizer</th>\n",
       "      <th>Num_doors</th>\n",
       "      <th>Dt_Transmission</th>\n",
       "    </tr>\n",
       "  </thead>\n",
       "  <tbody>\n",
       "    <tr>\n",
       "      <th>1</th>\n",
       "      <td>HYUNDAI I20 1 2 MPI I MOTION</td>\n",
       "      <td>HYUNDAI</td>\n",
       "      <td>17147.0</td>\n",
       "      <td>hatchback</td>\n",
       "      <td>9.0</td>\n",
       "      <td>5</td>\n",
       "      <td>b</td>\n",
       "      <td>2020</td>\n",
       "      <td>front</td>\n",
       "      <td>fuel engine</td>\n",
       "      <td>...</td>\n",
       "      <td>direct injection</td>\n",
       "      <td>dohc</td>\n",
       "      <td>no</td>\n",
       "      <td>40</td>\n",
       "      <td>173</td>\n",
       "      <td>b</td>\n",
       "      <td>yes</td>\n",
       "      <td>no</td>\n",
       "      <td>4.0</td>\n",
       "      <td>manual transmission</td>\n",
       "    </tr>\n",
       "    <tr>\n",
       "      <th>2</th>\n",
       "      <td>MERCEDES BENZ S 450 4MATIC</td>\n",
       "      <td>MERCEDES</td>\n",
       "      <td>134188.0</td>\n",
       "      <td>sedan</td>\n",
       "      <td>6.0</td>\n",
       "      <td>5</td>\n",
       "      <td>f</td>\n",
       "      <td>2020</td>\n",
       "      <td>front+rear</td>\n",
       "      <td>fuel engine</td>\n",
       "      <td>...</td>\n",
       "      <td>direct injection</td>\n",
       "      <td>dohc</td>\n",
       "      <td>yes</td>\n",
       "      <td>76</td>\n",
       "      <td>250</td>\n",
       "      <td>b</td>\n",
       "      <td>yes</td>\n",
       "      <td>yes</td>\n",
       "      <td>5.0</td>\n",
       "      <td>automatic</td>\n",
       "    </tr>\n",
       "    <tr>\n",
       "      <th>3</th>\n",
       "      <td>OPEL MOKKA 1 2 TURBO 100HP EDITION</td>\n",
       "      <td>OPEL</td>\n",
       "      <td>25400.0</td>\n",
       "      <td>suv/crossover</td>\n",
       "      <td>8.0</td>\n",
       "      <td>5</td>\n",
       "      <td>l</td>\n",
       "      <td>2020</td>\n",
       "      <td>front</td>\n",
       "      <td>fuel engine</td>\n",
       "      <td>...</td>\n",
       "      <td>direct injection</td>\n",
       "      <td>dohc</td>\n",
       "      <td>yes</td>\n",
       "      <td>44</td>\n",
       "      <td>188</td>\n",
       "      <td>b</td>\n",
       "      <td>yes</td>\n",
       "      <td>no</td>\n",
       "      <td>4.0</td>\n",
       "      <td>manual transmission</td>\n",
       "    </tr>\n",
       "    <tr>\n",
       "      <th>4</th>\n",
       "      <td>JAGUAR XF P250 S</td>\n",
       "      <td>JAGUAR</td>\n",
       "      <td>67805.0</td>\n",
       "      <td>sedan</td>\n",
       "      <td>8.0</td>\n",
       "      <td>5</td>\n",
       "      <td>e</td>\n",
       "      <td>2020</td>\n",
       "      <td>rear</td>\n",
       "      <td>fuel engine</td>\n",
       "      <td>...</td>\n",
       "      <td>direct injection</td>\n",
       "      <td>dohc</td>\n",
       "      <td>yes</td>\n",
       "      <td>74</td>\n",
       "      <td>250</td>\n",
       "      <td>c</td>\n",
       "      <td>yes</td>\n",
       "      <td>yes</td>\n",
       "      <td>5.0</td>\n",
       "      <td>automatic</td>\n",
       "    </tr>\n",
       "    <tr>\n",
       "      <th>5</th>\n",
       "      <td>JAGUAR XF SPORTBRAKE P250 S</td>\n",
       "      <td>JAGUAR</td>\n",
       "      <td>73805.0</td>\n",
       "      <td>station wagon</td>\n",
       "      <td>6.0</td>\n",
       "      <td>5</td>\n",
       "      <td>e</td>\n",
       "      <td>2020</td>\n",
       "      <td>rear</td>\n",
       "      <td>fuel engine</td>\n",
       "      <td>...</td>\n",
       "      <td>direct injection</td>\n",
       "      <td>dohc</td>\n",
       "      <td>yes</td>\n",
       "      <td>74</td>\n",
       "      <td>241</td>\n",
       "      <td>d</td>\n",
       "      <td>yes</td>\n",
       "      <td>yes</td>\n",
       "      <td>3.0</td>\n",
       "      <td>automatic</td>\n",
       "    </tr>\n",
       "  </tbody>\n",
       "</table>\n",
       "<p>5 rows × 24 columns</p>\n",
       "</div>"
      ],
      "text/plain": [
       "                                 Name     Brand     Price            Body  \\\n",
       "1        HYUNDAI I20 1 2 MPI I MOTION   HYUNDAI   17147.0       hatchback   \n",
       "2          MERCEDES BENZ S 450 4MATIC  MERCEDES  134188.0           sedan   \n",
       "3  OPEL MOKKA 1 2 TURBO 100HP EDITION      OPEL   25400.0   suv/crossover   \n",
       "4                    JAGUAR XF P250 S    JAGUAR   67805.0           sedan   \n",
       "5         JAGUAR XF SPORTBRAKE P250 S    JAGUAR   73805.0   station wagon   \n",
       "\n",
       "   Transmission  Number Of Seats Segment  Introduction       Drive  \\\n",
       "1           9.0                5       b          2020       front   \n",
       "2           6.0                5       f          2020  front+rear   \n",
       "3           8.0                5       l          2020       front   \n",
       "4           8.0                5       e          2020        rear   \n",
       "5           6.0                5       e          2020        rear   \n",
       "\n",
       "  Drive System  ...       Fuel System  Valve Actuation  Turbo  Fuel Tank  \\\n",
       "1  fuel engine  ...  direct injection             dohc     no         40   \n",
       "2  fuel engine  ...  direct injection             dohc    yes         76   \n",
       "3  fuel engine  ...  direct injection             dohc    yes         44   \n",
       "4  fuel engine  ...  direct injection             dohc    yes         74   \n",
       "5  fuel engine  ...  direct injection             dohc    yes         74   \n",
       "\n",
       "  Top Speed Energy Label Front Stabilizer Rear Stabilizer  Num_doors  \\\n",
       "1       173            b              yes              no        4.0   \n",
       "2       250            b              yes             yes        5.0   \n",
       "3       188            b              yes              no        4.0   \n",
       "4       250            c              yes             yes        5.0   \n",
       "5       241            d              yes             yes        3.0   \n",
       "\n",
       "       Dt_Transmission  \n",
       "1  manual transmission  \n",
       "2            automatic  \n",
       "3  manual transmission  \n",
       "4            automatic  \n",
       "5            automatic  \n",
       "\n",
       "[5 rows x 24 columns]"
      ]
     },
     "execution_count": 25,
     "metadata": {},
     "output_type": "execute_result"
    }
   ],
   "source": [
    "df.head()"
   ]
  },
  {
   "cell_type": "markdown",
   "metadata": {},
   "source": [
    "## Xuất dữ liệu ra file\n",
    "Cuối cùng, ta xuất dữ liệu thu thập được ra file \"data.csv\" để sử dụng trong phần tiếp theo của đồ án."
   ]
  },
  {
   "cell_type": "code",
   "execution_count": 26,
   "metadata": {},
   "outputs": [],
   "source": [
    "df.to_csv('data.csv')"
   ]
  }
 ],
 "metadata": {
  "kernelspec": {
   "display_name": "Python 3",
   "language": "python",
   "name": "python3"
  },
  "language_info": {
   "codemirror_mode": {
    "name": "ipython",
    "version": 3
   },
   "file_extension": ".py",
   "mimetype": "text/x-python",
   "name": "python",
   "nbconvert_exporter": "python",
   "pygments_lexer": "ipython3",
   "version": "3.8.3"
  }
 },
 "nbformat": 4,
 "nbformat_minor": 4
}
